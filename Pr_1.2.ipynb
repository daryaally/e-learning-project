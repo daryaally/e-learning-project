{
 "cells": [
  {
   "cell_type": "code",
   "execution_count": 4,
   "metadata": {},
   "outputs": [],
   "source": [
    "import pandas as pd\n",
    "import numpy as np\n",
    "import seaborn as sns\n",
    "import matplotlib.pyplot as plt\n",
    "\n",
    "%matplotlib inline "
   ]
  },
  {
   "cell_type": "code",
   "execution_count": 7,
   "metadata": {},
   "outputs": [],
   "source": [
    "assessments=pd.read_csv('/mnt/HC_Volume_18315164/home-jupyter/jupyter-d-ivashchenko/first_project_var_2/assessments (1).csv')\n",
    "courses=pd.read_csv('/mnt/HC_Volume_18315164/home-jupyter/jupyter-d-ivashchenko/first_project_var_2/courses.csv')\n",
    "student_as=pd.read_csv('/mnt/HC_Volume_18315164/home-jupyter/jupyter-d-ivashchenko/first_project_var_2/studentAssessment (1).csv')\n",
    "student_reg=pd.read_csv('/mnt/HC_Volume_18315164/home-jupyter/jupyter-d-ivashchenko/first_project_var_2/studentRegistration.csv')"
   ]
  },
  {
   "cell_type": "markdown",
   "metadata": {},
   "source": [
    "### assessments.csv — этот файл содержит информацию об оценках в тесте.     \n",
    "Обычно каждый предмет в семестре включает ряд тестов с оценками, за которыми следует заключительный экзаменационный тест (экзамен).\n",
    "code_module — идентификационный код предмета.      \n",
    "code_presentation — семестр (Идентификационный код).        \n",
    "id_assessment — тест (Идентификационный номер ассессмента).            \n",
    "assessment_type — тип теста. \n",
    "Существуют три типа оценивания: оценка преподавателя (TMA), компьютерная оценка (СМА), экзамен по курсу (Exam).      \n",
    "date — информация об окончательной дате сдачи теста. Рассчитывается как количество дней с момента начала семестра. Дата начала семестра имеет номер 0 (ноль).weight — вес теста в % в оценке за курс. Обычно экзамены рассматриваются отдельно и имеют вес 100%; сумма всех остальных оценок составляет 100%."
   ]
  },
  {
   "cell_type": "markdown",
   "metadata": {},
   "source": [
    "### courses.csv — файл содержит список предметов по семестрам.         \n",
    "code_module — предмет (идентификационный код).          \n",
    "code_presentation — семестр (идентификационный код).        \n",
    "module_presentation_length — продолжительность семестра в днях."
   ]
  },
  {
   "cell_type": "markdown",
   "metadata": {},
   "source": [
    "### studentAssessment.csv — этот файл содержит результаты тестов студентов. \n",
    "Если учащийся не отправляет работу на оценку, результат не записывается в таблицу.\n",
    "\n",
    "id_assessment — тест (идентификационный номер).       \n",
    "id_student — идентификационный номер студента.       \n",
    "date_submitted — дата сдачи теста студентом, измеряемая как количество дней с начала семестра.    \n",
    "is_banked — факт перезачета теста с прошлого семестра (иногда курсы перезачитывают студентам, вернувшимся из академического отпуска).           \n",
    "score — оценка учащегося в этом тесте. Диапазон составляет от 0 до 100. Оценка ниже 40 неудачная/неуспешная сдача теста.\n"
   ]
  },
  {
   "cell_type": "markdown",
   "metadata": {},
   "source": [
    "### studentRegistration.csv — этот файл содержит информацию о времени, когда студент зарегистрировался для прохождения курса в семестре.     \n",
    "code_module — предмет (идентификационный код).         \n",
    "code_presentation — семестр (идентификационный код)        \n",
    "id_student — идентификационный номер студента.           \n",
    "date_registration — дата регистрации студента. Это количество дней, измеренное от начала семестра (например, отрицательное значение -30 означает, что студент зарегистрировался на прохождение курса за 30 дней до его начала).         \n",
    "date_unregistration — дата отмены регистрации студента с предмета. У студентов, окончивших курс, это поле остается пустым."
   ]
  },
  {
   "cell_type": "markdown",
   "metadata": {},
   "source": [
    "### 1. Сколько студентов успешно сдали только один курс?\n",
    "Успешная сдача — это зачёт по курсу на экзамене.Для решения задачи нам необходимы 2 датафрейма:\n",
    "assessments - с информацией об экзаменах.student_as - файл с оценками студентов.\n",
    " Начнем с того, что посмотрим на информацию в нужных датафреймах:"
   ]
  },
  {
   "cell_type": "code",
   "execution_count": 8,
   "metadata": {},
   "outputs": [
    {
     "data": {
      "text/html": [
       "<div>\n",
       "<style scoped>\n",
       "    .dataframe tbody tr th:only-of-type {\n",
       "        vertical-align: middle;\n",
       "    }\n",
       "\n",
       "    .dataframe tbody tr th {\n",
       "        vertical-align: top;\n",
       "    }\n",
       "\n",
       "    .dataframe thead th {\n",
       "        text-align: right;\n",
       "    }\n",
       "</style>\n",
       "<table border=\"1\" class=\"dataframe\">\n",
       "  <thead>\n",
       "    <tr style=\"text-align: right;\">\n",
       "      <th></th>\n",
       "      <th>id_assessment</th>\n",
       "      <th>id_student</th>\n",
       "      <th>date_submitted</th>\n",
       "      <th>is_banked</th>\n",
       "      <th>score</th>\n",
       "    </tr>\n",
       "  </thead>\n",
       "  <tbody>\n",
       "    <tr>\n",
       "      <th>0</th>\n",
       "      <td>1752</td>\n",
       "      <td>11391</td>\n",
       "      <td>18</td>\n",
       "      <td>0</td>\n",
       "      <td>78.0</td>\n",
       "    </tr>\n",
       "    <tr>\n",
       "      <th>1</th>\n",
       "      <td>1752</td>\n",
       "      <td>28400</td>\n",
       "      <td>22</td>\n",
       "      <td>0</td>\n",
       "      <td>70.0</td>\n",
       "    </tr>\n",
       "    <tr>\n",
       "      <th>2</th>\n",
       "      <td>1752</td>\n",
       "      <td>31604</td>\n",
       "      <td>17</td>\n",
       "      <td>0</td>\n",
       "      <td>72.0</td>\n",
       "    </tr>\n",
       "    <tr>\n",
       "      <th>3</th>\n",
       "      <td>1752</td>\n",
       "      <td>32885</td>\n",
       "      <td>26</td>\n",
       "      <td>0</td>\n",
       "      <td>69.0</td>\n",
       "    </tr>\n",
       "    <tr>\n",
       "      <th>4</th>\n",
       "      <td>1752</td>\n",
       "      <td>38053</td>\n",
       "      <td>19</td>\n",
       "      <td>0</td>\n",
       "      <td>79.0</td>\n",
       "    </tr>\n",
       "  </tbody>\n",
       "</table>\n",
       "</div>"
      ],
      "text/plain": [
       "   id_assessment  id_student  date_submitted  is_banked  score\n",
       "0           1752       11391              18          0   78.0\n",
       "1           1752       28400              22          0   70.0\n",
       "2           1752       31604              17          0   72.0\n",
       "3           1752       32885              26          0   69.0\n",
       "4           1752       38053              19          0   79.0"
      ]
     },
     "execution_count": 8,
     "metadata": {},
     "output_type": "execute_result"
    }
   ],
   "source": [
    "student_as.head(5)"
   ]
  },
  {
   "cell_type": "code",
   "execution_count": 9,
   "metadata": {},
   "outputs": [
    {
     "data": {
      "text/plain": [
       "id_assessment       0\n",
       "id_student          0\n",
       "date_submitted      0\n",
       "is_banked           0\n",
       "score             173\n",
       "dtype: int64"
      ]
     },
     "execution_count": 9,
     "metadata": {},
     "output_type": "execute_result"
    }
   ],
   "source": [
    "# Проверим пропуски\n",
    "student_as.isnull().sum()"
   ]
  },
  {
   "cell_type": "markdown",
   "metadata": {},
   "source": [
    " В колонке 'score' есть 173 пропущенных значения, но, так как для успешной сдачи нам нужно значение >= 40, это никак не повлияет"
   ]
  },
  {
   "cell_type": "code",
   "execution_count": 10,
   "metadata": {},
   "outputs": [
    {
     "data": {
      "text/plain": [
       "0    172003\n",
       "1      1909\n",
       "Name: is_banked, dtype: int64"
      ]
     },
     "execution_count": 10,
     "metadata": {},
     "output_type": "execute_result"
    }
   ],
   "source": [
    " # Посмотрим на перезачеты:\n",
    "student_as.is_banked.value_counts()"
   ]
  },
  {
   "cell_type": "markdown",
   "metadata": {},
   "source": [
    " Кол-во перезачетов составило 1909, будем иметь это в виду, при обработке данных"
   ]
  },
  {
   "cell_type": "code",
   "execution_count": 11,
   "metadata": {},
   "outputs": [
    {
     "data": {
      "image/png": "[encoded data removed]",
      "text/plain": [
       "<Figure size 864x432 with 1 Axes>"
      ]
     },
     "metadata": {
      "needs_background": "light"
     },
     "output_type": "display_data"
    }
   ],
   "source": [
    "# Посмотрим на распределение даты зачета\n",
    "sns.displot(student_as, x='date_submitted', palette=\"light\")\n",
    "plt.gcf().set_size_inches(12, 6)"
   ]
  },
  {
   "cell_type": "markdown",
   "metadata": {},
   "source": [
    " У нас есть странные отрицательные значения, давайте посмотрим на них"
   ]
  },
  {
   "cell_type": "code",
   "execution_count": 12,
   "metadata": {},
   "outputs": [
    {
     "data": {
      "text/html": [
       "<div>\n",
       "<style scoped>\n",
       "    .dataframe tbody tr th:only-of-type {\n",
       "        vertical-align: middle;\n",
       "    }\n",
       "\n",
       "    .dataframe tbody tr th {\n",
       "        vertical-align: top;\n",
       "    }\n",
       "\n",
       "    .dataframe thead th {\n",
       "        text-align: right;\n",
       "    }\n",
       "</style>\n",
       "<table border=\"1\" class=\"dataframe\">\n",
       "  <thead>\n",
       "    <tr style=\"text-align: right;\">\n",
       "      <th></th>\n",
       "      <th>id_assessment</th>\n",
       "      <th>id_student</th>\n",
       "      <th>date_submitted</th>\n",
       "      <th>is_banked</th>\n",
       "      <th>score</th>\n",
       "    </tr>\n",
       "  </thead>\n",
       "  <tbody>\n",
       "    <tr>\n",
       "      <th>1641</th>\n",
       "      <td>1758</td>\n",
       "      <td>603861</td>\n",
       "      <td>-1</td>\n",
       "      <td>1</td>\n",
       "      <td>61.0</td>\n",
       "    </tr>\n",
       "    <tr>\n",
       "      <th>1685</th>\n",
       "      <td>1758</td>\n",
       "      <td>1970390</td>\n",
       "      <td>-1</td>\n",
       "      <td>1</td>\n",
       "      <td>78.0</td>\n",
       "    </tr>\n",
       "    <tr>\n",
       "      <th>1690</th>\n",
       "      <td>1758</td>\n",
       "      <td>2073016</td>\n",
       "      <td>-1</td>\n",
       "      <td>1</td>\n",
       "      <td>60.0</td>\n",
       "    </tr>\n",
       "    <tr>\n",
       "      <th>1693</th>\n",
       "      <td>1758</td>\n",
       "      <td>2139353</td>\n",
       "      <td>-1</td>\n",
       "      <td>1</td>\n",
       "      <td>65.0</td>\n",
       "    </tr>\n",
       "    <tr>\n",
       "      <th>1708</th>\n",
       "      <td>1758</td>\n",
       "      <td>2358969</td>\n",
       "      <td>-1</td>\n",
       "      <td>1</td>\n",
       "      <td>68.0</td>\n",
       "    </tr>\n",
       "  </tbody>\n",
       "</table>\n",
       "</div>"
      ],
      "text/plain": [
       "      id_assessment  id_student  date_submitted  is_banked  score\n",
       "1641           1758      603861              -1          1   61.0\n",
       "1685           1758     1970390              -1          1   78.0\n",
       "1690           1758     2073016              -1          1   60.0\n",
       "1693           1758     2139353              -1          1   65.0\n",
       "1708           1758     2358969              -1          1   68.0"
      ]
     },
     "execution_count": 12,
     "metadata": {},
     "output_type": "execute_result"
    }
   ],
   "source": [
    " # Посмотрим на значения с date_submitted < 0\n",
    "student_as[student_as.date_submitted < 0].head(5)"
   ]
  },
  {
   "cell_type": "markdown",
   "metadata": {},
   "source": [
    " Судя по всему, перезачетам проставляется дата -1, давайте это проверим"
   ]
  },
  {
   "cell_type": "code",
   "execution_count": 13,
   "metadata": {},
   "outputs": [
    {
     "data": {
      "text/plain": [
       "-1     1927\n",
       "-8       37\n",
       "-3       30\n",
       "-2       25\n",
       "-5       13\n",
       "-4       12\n",
       "-6        6\n",
       "-7        4\n",
       "-11       1\n",
       "-9        1\n",
       "-10       1\n",
       "Name: date_submitted, dtype: int64"
      ]
     },
     "execution_count": 13,
     "metadata": {},
     "output_type": "execute_result"
    }
   ],
   "source": [
    " # Сгрупперуем данные с отрицательными значениями\n",
    "student_as[student_as.date_submitted < 0].date_submitted.value_counts()"
   ]
  },
  {
   "cell_type": "markdown",
   "metadata": {},
   "source": [
    " Да, действительно все наши 1909 перезачетов имеют дату -1.\n",
    "Помимо этого, у нас есть и другие значения с датой < 0. Но так как они не являются пересдачей, скорее всего, была проставлена ошибочная дата."
   ]
  },
  {
   "cell_type": "code",
   "execution_count": 14,
   "metadata": {},
   "outputs": [
    {
     "data": {
      "text/html": [
       "<div>\n",
       "<style scoped>\n",
       "    .dataframe tbody tr th:only-of-type {\n",
       "        vertical-align: middle;\n",
       "    }\n",
       "\n",
       "    .dataframe tbody tr th {\n",
       "        vertical-align: top;\n",
       "    }\n",
       "\n",
       "    .dataframe thead th {\n",
       "        text-align: right;\n",
       "    }\n",
       "</style>\n",
       "<table border=\"1\" class=\"dataframe\">\n",
       "  <thead>\n",
       "    <tr style=\"text-align: right;\">\n",
       "      <th></th>\n",
       "      <th>code_module</th>\n",
       "      <th>code_presentation</th>\n",
       "      <th>id_assessment</th>\n",
       "      <th>assessment_type</th>\n",
       "      <th>date</th>\n",
       "      <th>weight</th>\n",
       "    </tr>\n",
       "  </thead>\n",
       "  <tbody>\n",
       "    <tr>\n",
       "      <th>0</th>\n",
       "      <td>AAA</td>\n",
       "      <td>2013J</td>\n",
       "      <td>1752</td>\n",
       "      <td>TMA</td>\n",
       "      <td>19.0</td>\n",
       "      <td>10.0</td>\n",
       "    </tr>\n",
       "    <tr>\n",
       "      <th>1</th>\n",
       "      <td>AAA</td>\n",
       "      <td>2013J</td>\n",
       "      <td>1753</td>\n",
       "      <td>TMA</td>\n",
       "      <td>54.0</td>\n",
       "      <td>20.0</td>\n",
       "    </tr>\n",
       "    <tr>\n",
       "      <th>2</th>\n",
       "      <td>AAA</td>\n",
       "      <td>2013J</td>\n",
       "      <td>1754</td>\n",
       "      <td>TMA</td>\n",
       "      <td>117.0</td>\n",
       "      <td>20.0</td>\n",
       "    </tr>\n",
       "    <tr>\n",
       "      <th>3</th>\n",
       "      <td>AAA</td>\n",
       "      <td>2013J</td>\n",
       "      <td>1755</td>\n",
       "      <td>TMA</td>\n",
       "      <td>166.0</td>\n",
       "      <td>20.0</td>\n",
       "    </tr>\n",
       "    <tr>\n",
       "      <th>4</th>\n",
       "      <td>AAA</td>\n",
       "      <td>2013J</td>\n",
       "      <td>1756</td>\n",
       "      <td>TMA</td>\n",
       "      <td>215.0</td>\n",
       "      <td>30.0</td>\n",
       "    </tr>\n",
       "  </tbody>\n",
       "</table>\n",
       "</div>"
      ],
      "text/plain": [
       "  code_module code_presentation  id_assessment assessment_type   date  weight\n",
       "0         AAA             2013J           1752             TMA   19.0    10.0\n",
       "1         AAA             2013J           1753             TMA   54.0    20.0\n",
       "2         AAA             2013J           1754             TMA  117.0    20.0\n",
       "3         AAA             2013J           1755             TMA  166.0    20.0\n",
       "4         AAA             2013J           1756             TMA  215.0    30.0"
      ]
     },
     "execution_count": 14,
     "metadata": {},
     "output_type": "execute_result"
    }
   ],
   "source": [
    " # Посмотрим на датафрейм 'assessments'\n",
    "assessments.head(5) "
   ]
  },
  {
   "cell_type": "code",
   "execution_count": 15,
   "metadata": {},
   "outputs": [
    {
     "data": {
      "text/plain": [
       "code_module           0\n",
       "code_presentation     0\n",
       "id_assessment         0\n",
       "assessment_type       0\n",
       "date                 11\n",
       "weight                0\n",
       "dtype: int64"
      ]
     },
     "execution_count": 15,
     "metadata": {},
     "output_type": "execute_result"
    }
   ],
   "source": [
    "# Проверим на пропуски\n",
    "assessments.isnull().sum()"
   ]
  },
  {
   "cell_type": "markdown",
   "metadata": {},
   "source": [
    " Пропуски только в датах, возможно точных дат сдачи не было, или их забыли проставить.      \n",
    " Приступим к решению задачи."
   ]
  },
  {
   "cell_type": "code",
   "execution_count": 16,
   "metadata": {},
   "outputs": [],
   "source": [
    " #  В датафрейме `assessments` оставим только данные по экзаменам и сохраняем в переменную `as_exam`\n",
    "as_exam = assessments[assessments.assessment_type == 'Exam']"
   ]
  },
  {
   "cell_type": "code",
   "execution_count": 17,
   "metadata": {},
   "outputs": [],
   "source": [
    "# Объеденим 2 датафрейма в новый `students_exam` по колонке id_assessment\n",
    "students_exam = student_as.merge(as_exam,on='id_assessment')"
   ]
  },
  {
   "cell_type": "code",
   "execution_count": 18,
   "metadata": {},
   "outputs": [
    {
     "data": {
      "text/html": [
       "<div>\n",
       "<style scoped>\n",
       "    .dataframe tbody tr th:only-of-type {\n",
       "        vertical-align: middle;\n",
       "    }\n",
       "\n",
       "    .dataframe tbody tr th {\n",
       "        vertical-align: top;\n",
       "    }\n",
       "\n",
       "    .dataframe thead th {\n",
       "        text-align: right;\n",
       "    }\n",
       "</style>\n",
       "<table border=\"1\" class=\"dataframe\">\n",
       "  <thead>\n",
       "    <tr style=\"text-align: right;\">\n",
       "      <th></th>\n",
       "      <th>id_assessment</th>\n",
       "      <th>id_student</th>\n",
       "      <th>date_submitted</th>\n",
       "      <th>is_banked</th>\n",
       "      <th>score</th>\n",
       "      <th>code_module</th>\n",
       "      <th>code_presentation</th>\n",
       "      <th>assessment_type</th>\n",
       "      <th>date</th>\n",
       "      <th>weight</th>\n",
       "    </tr>\n",
       "  </thead>\n",
       "  <tbody>\n",
       "    <tr>\n",
       "      <th>0</th>\n",
       "      <td>24290</td>\n",
       "      <td>558914</td>\n",
       "      <td>230</td>\n",
       "      <td>0</td>\n",
       "      <td>32.0</td>\n",
       "      <td>CCC</td>\n",
       "      <td>2014B</td>\n",
       "      <td>Exam</td>\n",
       "      <td>NaN</td>\n",
       "      <td>100.0</td>\n",
       "    </tr>\n",
       "    <tr>\n",
       "      <th>1</th>\n",
       "      <td>24290</td>\n",
       "      <td>559706</td>\n",
       "      <td>234</td>\n",
       "      <td>0</td>\n",
       "      <td>78.0</td>\n",
       "      <td>CCC</td>\n",
       "      <td>2014B</td>\n",
       "      <td>Exam</td>\n",
       "      <td>NaN</td>\n",
       "      <td>100.0</td>\n",
       "    </tr>\n",
       "    <tr>\n",
       "      <th>2</th>\n",
       "      <td>24290</td>\n",
       "      <td>559770</td>\n",
       "      <td>230</td>\n",
       "      <td>0</td>\n",
       "      <td>54.0</td>\n",
       "      <td>CCC</td>\n",
       "      <td>2014B</td>\n",
       "      <td>Exam</td>\n",
       "      <td>NaN</td>\n",
       "      <td>100.0</td>\n",
       "    </tr>\n",
       "    <tr>\n",
       "      <th>3</th>\n",
       "      <td>24290</td>\n",
       "      <td>560114</td>\n",
       "      <td>230</td>\n",
       "      <td>0</td>\n",
       "      <td>64.0</td>\n",
       "      <td>CCC</td>\n",
       "      <td>2014B</td>\n",
       "      <td>Exam</td>\n",
       "      <td>NaN</td>\n",
       "      <td>100.0</td>\n",
       "    </tr>\n",
       "    <tr>\n",
       "      <th>4</th>\n",
       "      <td>24290</td>\n",
       "      <td>560311</td>\n",
       "      <td>234</td>\n",
       "      <td>0</td>\n",
       "      <td>100.0</td>\n",
       "      <td>CCC</td>\n",
       "      <td>2014B</td>\n",
       "      <td>Exam</td>\n",
       "      <td>NaN</td>\n",
       "      <td>100.0</td>\n",
       "    </tr>\n",
       "  </tbody>\n",
       "</table>\n",
       "</div>"
      ],
      "text/plain": [
       "   id_assessment  id_student  date_submitted  is_banked  score code_module  \\\n",
       "0          24290      558914             230          0   32.0         CCC   \n",
       "1          24290      559706             234          0   78.0         CCC   \n",
       "2          24290      559770             230          0   54.0         CCC   \n",
       "3          24290      560114             230          0   64.0         CCC   \n",
       "4          24290      560311             234          0  100.0         CCC   \n",
       "\n",
       "  code_presentation assessment_type  date  weight  \n",
       "0             2014B            Exam   NaN   100.0  \n",
       "1             2014B            Exam   NaN   100.0  \n",
       "2             2014B            Exam   NaN   100.0  \n",
       "3             2014B            Exam   NaN   100.0  \n",
       "4             2014B            Exam   NaN   100.0  "
      ]
     },
     "execution_count": 18,
     "metadata": {},
     "output_type": "execute_result"
    }
   ],
   "source": [
    "# Посмотрим, как выглядит полученный датафрейм\n",
    "students_exam.head(5)"
   ]
  },
  {
   "cell_type": "markdown",
   "metadata": {},
   "source": [
    " Чтобы избежать случаев, когда один студент завершил один и тот же курс 2 раза, будем использовать количество уникальных курсов для каждого студента."
   ]
  },
  {
   "cell_type": "code",
   "execution_count": 19,
   "metadata": {},
   "outputs": [],
   "source": [
    "# Оставляем значения score >= 40 & is_banked == 0, группируем по id_student, находим количество уникальных значения code_module, переименовав колонку в finished_module\n",
    "\n",
    "suc_stud_exam = students_exam \\\n",
    "    .query('score >= 40 & is_banked == 0') \\\n",
    "    .groupby(['id_student'], as_index=False) \\\n",
    "    .code_module.nunique() \\\n",
    "    .rename(columns={'code_module': 'finished_module'}) \\\n",
    "    .sort_values('finished_module')"
   ]
  },
  {
   "cell_type": "code",
   "execution_count": 20,
   "metadata": {},
   "outputs": [
    {
     "data": {
      "text/plain": [
       "1    3805\n",
       "2     292\n",
       "Name: finished_module, dtype: int64"
      ]
     },
     "execution_count": 20,
     "metadata": {},
     "output_type": "execute_result"
    }
   ],
   "source": [
    " # Найдем какое количество курсов закончило какое количество студентов\n",
    "suc_stud_exam.finished_module.value_counts()"
   ]
  },
  {
   "cell_type": "markdown",
   "metadata": {},
   "source": [
    "## Вывод:\n",
    "Количество студентов сдавших только 1 курс: 3805Количество студентов сдавших 2 курса: 292Студенты не заканчивали более 2х курсов."
   ]
  },
  {
   "cell_type": "markdown",
   "metadata": {},
   "source": [
    "### 2. Выявить самый сложный и самый простой экзамен: найти курсы и экзамены в рамках курса, которые обладают самой низкой и самой высокой завершаемостью\n",
    "Определим, что завершаемость -  это отношение количества студентов успешно сдавших экзамен по курсу к общему числу студентов на этом курсе.Так как нам вновь нужны данные связанные с экзаменами, будем использовать датафрейм 'students_exam' из предыдущего задания"
   ]
  },
  {
   "cell_type": "code",
   "execution_count": 22,
   "metadata": {},
   "outputs": [],
   "source": [
    "# Для каждого модуля и экзамена найдем кол-во студентов успешно сдавших его.\n",
    "id_assessment_success = students_exam \\\n",
    "    .loc[students_exam.score >= 40] \\\n",
    "    .groupby(['code_module','id_assessment'],as_index=False) \\\n",
    "    .id_student.count() \\\n",
    "    .rename(columns={'id_student' : 'success'})"
   ]
  },
  {
   "cell_type": "code",
   "execution_count": 23,
   "metadata": {},
   "outputs": [],
   "source": [
    "# Для каждого модуля и экзамена найдем общее кол-во студентов .\n",
    "id_assessment_total = students_exam \\\n",
    "    .groupby('id_assessment',as_index=False) \\\n",
    "    .id_student.count() \\\n",
    "    .rename(columns={'id_student' : 'total'})"
   ]
  },
  {
   "cell_type": "code",
   "execution_count": 24,
   "metadata": {},
   "outputs": [],
   "source": [
    "# Объеденим два полученных датафрейма\n",
    "id_assessment_ratio = id_assessment_success.merge(id_assessment_total,on='id_assessment')\n",
    "\n",
    "# Добавим столбец 'ratio' - завершаемость экзамена из условия\n",
    "id_assessment_ratio['ratio'] = round(id_assessment_ratio.success / id_assessment_ratio.total,2)\n",
    "id_assessment_ratio = id_assessment_ratio.sort_values('ratio', ascending=False)"
   ]
  },
  {
   "cell_type": "code",
   "execution_count": 25,
   "metadata": {},
   "outputs": [
    {
     "data": {
      "text/html": [
       "<div>\n",
       "<style scoped>\n",
       "    .dataframe tbody tr th:only-of-type {\n",
       "        vertical-align: middle;\n",
       "    }\n",
       "\n",
       "    .dataframe tbody tr th {\n",
       "        vertical-align: top;\n",
       "    }\n",
       "\n",
       "    .dataframe thead th {\n",
       "        text-align: right;\n",
       "    }\n",
       "</style>\n",
       "<table border=\"1\" class=\"dataframe\">\n",
       "  <thead>\n",
       "    <tr style=\"text-align: right;\">\n",
       "      <th></th>\n",
       "      <th>code_module</th>\n",
       "      <th>id_assessment</th>\n",
       "      <th>success</th>\n",
       "      <th>total</th>\n",
       "      <th>ratio</th>\n",
       "    </tr>\n",
       "  </thead>\n",
       "  <tbody>\n",
       "    <tr>\n",
       "      <th>4</th>\n",
       "      <td>DDD</td>\n",
       "      <td>25361</td>\n",
       "      <td>485</td>\n",
       "      <td>524</td>\n",
       "      <td>0.93</td>\n",
       "    </tr>\n",
       "    <tr>\n",
       "      <th>3</th>\n",
       "      <td>DDD</td>\n",
       "      <td>25354</td>\n",
       "      <td>878</td>\n",
       "      <td>968</td>\n",
       "      <td>0.91</td>\n",
       "    </tr>\n",
       "    <tr>\n",
       "      <th>0</th>\n",
       "      <td>CCC</td>\n",
       "      <td>24290</td>\n",
       "      <td>664</td>\n",
       "      <td>747</td>\n",
       "      <td>0.89</td>\n",
       "    </tr>\n",
       "    <tr>\n",
       "      <th>5</th>\n",
       "      <td>DDD</td>\n",
       "      <td>25368</td>\n",
       "      <td>842</td>\n",
       "      <td>950</td>\n",
       "      <td>0.89</td>\n",
       "    </tr>\n",
       "    <tr>\n",
       "      <th>1</th>\n",
       "      <td>CCC</td>\n",
       "      <td>24299</td>\n",
       "      <td>1019</td>\n",
       "      <td>1168</td>\n",
       "      <td>0.87</td>\n",
       "    </tr>\n",
       "    <tr>\n",
       "      <th>2</th>\n",
       "      <td>DDD</td>\n",
       "      <td>25340</td>\n",
       "      <td>504</td>\n",
       "      <td>602</td>\n",
       "      <td>0.84</td>\n",
       "    </tr>\n",
       "  </tbody>\n",
       "</table>\n",
       "</div>"
      ],
      "text/plain": [
       "  code_module  id_assessment  success  total  ratio\n",
       "4         DDD          25361      485    524   0.93\n",
       "3         DDD          25354      878    968   0.91\n",
       "0         CCC          24290      664    747   0.89\n",
       "5         DDD          25368      842    950   0.89\n",
       "1         CCC          24299     1019   1168   0.87\n",
       "2         DDD          25340      504    602   0.84"
      ]
     },
     "execution_count": 25,
     "metadata": {},
     "output_type": "execute_result"
    }
   ],
   "source": [
    "# Посмотрим на получившийся датафрейм\n",
    "id_assessment_ratio"
   ]
  },
  {
   "cell_type": "code",
   "execution_count": 26,
   "metadata": {},
   "outputs": [
    {
     "data": {
      "text/plain": [
       "<matplotlib.axes._subplots.AxesSubplot at 0x7f0ab6327048>"
      ]
     },
     "execution_count": 26,
     "metadata": {},
     "output_type": "execute_result"
    },
    {
     "data": {
      "image/png": "[encoded data removed]",
      "text/plain": [
       "<Figure size 864x432 with 1 Axes>"
      ]
     },
     "metadata": {
      "needs_background": "light"
     },
     "output_type": "display_data"
    }
   ],
   "source": [
    " # Визуализируем данные\n",
    "f, ax1 = plt.subplots(1, figsize=(12, 6), sharex=True)\n",
    "sns.barplot(data = id_assessment_ratio, x='id_assessment', y='ratio', palette=\"deep\")"
   ]
  },
  {
   "cell_type": "markdown",
   "metadata": {},
   "source": [
    "## Вывод:\n",
    " Самый сложный экзамен - 25340 из модуля DDD c % успеха = 84.0; Самый простой экзамен - 25361 из модуля DDD c % успеха = 93.0;В целом, все экзамены находятся примерно на одном уровне, и имеют достаточно высокую завершаемость."
   ]
  },
  {
   "cell_type": "markdown",
   "metadata": {},
   "source": [
    "### 3. По каждому предмету определи средний срок сдачи экзаменов (под сдачей понимаем последнее успешное прохождение экзамена студентом).\n",
    "Будем считать получение оценки 40 и выше - последнее успешное прохождение экзамена студентом.Дополнительно узнаем -  успевают ли в среднем студенты в срок сдачи ?Нам вновь нужны данные связанные с экзаменами, будем использовать датафрейм 'students_exam' из предыдущих заданий"
   ]
  },
  {
   "cell_type": "code",
   "execution_count": 28,
   "metadata": {},
   "outputs": [],
   "source": [
    "# Найдем данные по успешно пройденным экзаменам и запишем их в переменную 's_stud_exam'\n",
    "s_stud_exam = students_exam.query('score >= 40 & is_banked == 0')"
   ]
  },
  {
   "cell_type": "code",
   "execution_count": 29,
   "metadata": {},
   "outputs": [
    {
     "data": {
      "text/html": [
       "<div>\n",
       "<style scoped>\n",
       "    .dataframe tbody tr th:only-of-type {\n",
       "        vertical-align: middle;\n",
       "    }\n",
       "\n",
       "    .dataframe tbody tr th {\n",
       "        vertical-align: top;\n",
       "    }\n",
       "\n",
       "    .dataframe thead th {\n",
       "        text-align: right;\n",
       "    }\n",
       "</style>\n",
       "<table border=\"1\" class=\"dataframe\">\n",
       "  <thead>\n",
       "    <tr style=\"text-align: right;\">\n",
       "      <th></th>\n",
       "      <th>code_module</th>\n",
       "      <th>date_submitted</th>\n",
       "      <th>date</th>\n",
       "    </tr>\n",
       "  </thead>\n",
       "  <tbody>\n",
       "    <tr>\n",
       "      <th>0</th>\n",
       "      <td>CCC</td>\n",
       "      <td>239.0</td>\n",
       "      <td>NaN</td>\n",
       "    </tr>\n",
       "    <tr>\n",
       "      <th>1</th>\n",
       "      <td>DDD</td>\n",
       "      <td>238.0</td>\n",
       "      <td>250.0</td>\n",
       "    </tr>\n",
       "  </tbody>\n",
       "</table>\n",
       "</div>"
      ],
      "text/plain": [
       "  code_module  date_submitted   date\n",
       "0         CCC           239.0    NaN\n",
       "1         DDD           238.0  250.0"
      ]
     },
     "execution_count": 29,
     "metadata": {},
     "output_type": "execute_result"
    }
   ],
   "source": [
    "# Найдем средний срок сдачи экзаменов и окончательную дату по тестам\n",
    "s_stud_exam \\\n",
    "    .loc[:,['code_module', 'date_submitted', 'date']] \\\n",
    "    .groupby('code_module', as_index=False) \\\n",
    "    .mean() \\\n",
    "    .round()"
   ]
  },
  {
   "cell_type": "markdown",
   "metadata": {},
   "source": [
    " У нас есть полностью отсутсвующие данные по модулю ССС в столбце date. Возможно они есть и у модуля DDD, давайте проверим"
   ]
  },
  {
   "cell_type": "code",
   "execution_count": 30,
   "metadata": {},
   "outputs": [
    {
     "data": {
      "text/plain": [
       "842"
      ]
     },
     "execution_count": 30,
     "metadata": {},
     "output_type": "execute_result"
    }
   ],
   "source": [
    " # Посчитаем количество пропущенных значений\n",
    "s_stud_exam[s_stud_exam['code_module'] == \"DDD\"].date.isnull().sum()"
   ]
  },
  {
   "cell_type": "markdown",
   "metadata": {},
   "source": [
    " У предмета 'DDD' также есть пропуски. Давайте попробуем восстановить данные.Судя по описанию, возможно, нам подходит колонка 'module_presentation_length' из  файла 'courses.csv'"
   ]
  },
  {
   "cell_type": "code",
   "execution_count": 31,
   "metadata": {},
   "outputs": [
    {
     "data": {
      "text/html": [
       "<div>\n",
       "<style scoped>\n",
       "    .dataframe tbody tr th:only-of-type {\n",
       "        vertical-align: middle;\n",
       "    }\n",
       "\n",
       "    .dataframe tbody tr th {\n",
       "        vertical-align: top;\n",
       "    }\n",
       "\n",
       "    .dataframe thead th {\n",
       "        text-align: right;\n",
       "    }\n",
       "</style>\n",
       "<table border=\"1\" class=\"dataframe\">\n",
       "  <thead>\n",
       "    <tr style=\"text-align: right;\">\n",
       "      <th></th>\n",
       "      <th>code_module</th>\n",
       "      <th>code_presentation</th>\n",
       "      <th>module_presentation_length</th>\n",
       "    </tr>\n",
       "  </thead>\n",
       "  <tbody>\n",
       "    <tr>\n",
       "      <th>0</th>\n",
       "      <td>AAA</td>\n",
       "      <td>2013J</td>\n",
       "      <td>268</td>\n",
       "    </tr>\n",
       "    <tr>\n",
       "      <th>1</th>\n",
       "      <td>AAA</td>\n",
       "      <td>2014J</td>\n",
       "      <td>269</td>\n",
       "    </tr>\n",
       "    <tr>\n",
       "      <th>2</th>\n",
       "      <td>BBB</td>\n",
       "      <td>2013J</td>\n",
       "      <td>268</td>\n",
       "    </tr>\n",
       "    <tr>\n",
       "      <th>3</th>\n",
       "      <td>BBB</td>\n",
       "      <td>2014J</td>\n",
       "      <td>262</td>\n",
       "    </tr>\n",
       "    <tr>\n",
       "      <th>4</th>\n",
       "      <td>BBB</td>\n",
       "      <td>2013B</td>\n",
       "      <td>240</td>\n",
       "    </tr>\n",
       "    <tr>\n",
       "      <th>5</th>\n",
       "      <td>BBB</td>\n",
       "      <td>2014B</td>\n",
       "      <td>234</td>\n",
       "    </tr>\n",
       "    <tr>\n",
       "      <th>6</th>\n",
       "      <td>CCC</td>\n",
       "      <td>2014J</td>\n",
       "      <td>269</td>\n",
       "    </tr>\n",
       "    <tr>\n",
       "      <th>7</th>\n",
       "      <td>CCC</td>\n",
       "      <td>2014B</td>\n",
       "      <td>241</td>\n",
       "    </tr>\n",
       "    <tr>\n",
       "      <th>8</th>\n",
       "      <td>DDD</td>\n",
       "      <td>2013J</td>\n",
       "      <td>261</td>\n",
       "    </tr>\n",
       "    <tr>\n",
       "      <th>9</th>\n",
       "      <td>DDD</td>\n",
       "      <td>2014J</td>\n",
       "      <td>262</td>\n",
       "    </tr>\n",
       "  </tbody>\n",
       "</table>\n",
       "</div>"
      ],
      "text/plain": [
       "  code_module code_presentation  module_presentation_length\n",
       "0         AAA             2013J                         268\n",
       "1         AAA             2014J                         269\n",
       "2         BBB             2013J                         268\n",
       "3         BBB             2014J                         262\n",
       "4         BBB             2013B                         240\n",
       "5         BBB             2014B                         234\n",
       "6         CCC             2014J                         269\n",
       "7         CCC             2014B                         241\n",
       "8         DDD             2013J                         261\n",
       "9         DDD             2014J                         262"
      ]
     },
     "execution_count": 31,
     "metadata": {},
     "output_type": "execute_result"
    }
   ],
   "source": [
    " # Посмотрим на этот файл\n",
    "courses.head(10)"
   ]
  },
  {
   "cell_type": "code",
   "execution_count": 32,
   "metadata": {},
   "outputs": [],
   "source": [
    "# Объеденим наш датафрейм с 'courses' и запишем его в новую переменную 'm_stud_exam'\n",
    "m_stud_exam = s_stud_exam.merge(courses, on=['code_module', 'code_presentation'])"
   ]
  },
  {
   "cell_type": "code",
   "execution_count": 33,
   "metadata": {},
   "outputs": [],
   "source": [
    "# отфильтруем данные по предметам, уберем пустые значения  и запишем результат в переменную 'filtred_m_stud_exam'\n",
    "filtred_m_stud_exam =  m_stud_exam[(m_stud_exam.code_module == 'DDD') & (m_stud_exam.date.notnull())]"
   ]
  },
  {
   "cell_type": "markdown",
   "metadata": {},
   "source": [
    " Теперь сравним 2 колонки между собой, что бы посмотреть есть ли расхождения в данных, по которым не было пропусков:"
   ]
  },
  {
   "cell_type": "code",
   "execution_count": 34,
   "metadata": {},
   "outputs": [
    {
     "data": {
      "text/html": [
       "<div>\n",
       "<style scoped>\n",
       "    .dataframe tbody tr th:only-of-type {\n",
       "        vertical-align: middle;\n",
       "    }\n",
       "\n",
       "    .dataframe tbody tr th {\n",
       "        vertical-align: top;\n",
       "    }\n",
       "\n",
       "    .dataframe thead th {\n",
       "        text-align: right;\n",
       "    }\n",
       "</style>\n",
       "<table border=\"1\" class=\"dataframe\">\n",
       "  <thead>\n",
       "    <tr style=\"text-align: right;\">\n",
       "      <th></th>\n",
       "      <th>id_assessment</th>\n",
       "      <th>id_student</th>\n",
       "      <th>date_submitted</th>\n",
       "      <th>is_banked</th>\n",
       "      <th>score</th>\n",
       "      <th>code_module</th>\n",
       "      <th>code_presentation</th>\n",
       "      <th>assessment_type</th>\n",
       "      <th>date</th>\n",
       "      <th>weight</th>\n",
       "      <th>module_presentation_length</th>\n",
       "    </tr>\n",
       "  </thead>\n",
       "  <tbody>\n",
       "  </tbody>\n",
       "</table>\n",
       "</div>"
      ],
      "text/plain": [
       "Empty DataFrame\n",
       "Columns: [id_assessment, id_student, date_submitted, is_banked, score, code_module, code_presentation, assessment_type, date, weight, module_presentation_length]\n",
       "Index: []"
      ]
     },
     "execution_count": 34,
     "metadata": {},
     "output_type": "execute_result"
    }
   ],
   "source": [
    "filtred_m_stud_exam[filtred_m_stud_exam['date'] != filtred_m_stud_exam['module_presentation_length']]"
   ]
  },
  {
   "cell_type": "markdown",
   "metadata": {},
   "source": [
    " Расхождений нет, потому можем использовать эту колонку как финальную дату сдачи по экзамену."
   ]
  },
  {
   "cell_type": "code",
   "execution_count": 36,
   "metadata": {},
   "outputs": [
    {
     "data": {
      "text/html": [
       "<div>\n",
       "<style scoped>\n",
       "    .dataframe tbody tr th:only-of-type {\n",
       "        vertical-align: middle;\n",
       "    }\n",
       "\n",
       "    .dataframe tbody tr th {\n",
       "        vertical-align: top;\n",
       "    }\n",
       "\n",
       "    .dataframe thead th {\n",
       "        text-align: right;\n",
       "    }\n",
       "</style>\n",
       "<table border=\"1\" class=\"dataframe\">\n",
       "  <thead>\n",
       "    <tr style=\"text-align: right;\">\n",
       "      <th></th>\n",
       "      <th>code_module</th>\n",
       "      <th>date_submitted</th>\n",
       "      <th>module_presentation_length</th>\n",
       "    </tr>\n",
       "  </thead>\n",
       "  <tbody>\n",
       "    <tr>\n",
       "      <th>0</th>\n",
       "      <td>CCC</td>\n",
       "      <td>239.0</td>\n",
       "      <td>258.0</td>\n",
       "    </tr>\n",
       "    <tr>\n",
       "      <th>1</th>\n",
       "      <td>DDD</td>\n",
       "      <td>238.0</td>\n",
       "      <td>254.0</td>\n",
       "    </tr>\n",
       "  </tbody>\n",
       "</table>\n",
       "</div>"
      ],
      "text/plain": [
       "  code_module  date_submitted  module_presentation_length\n",
       "0         CCC           239.0                       258.0\n",
       "1         DDD           238.0                       254.0"
      ]
     },
     "execution_count": 36,
     "metadata": {},
     "output_type": "execute_result"
    }
   ],
   "source": [
    "# Найдем средний срок сдачи экзаменов и окончательную дату по тестам\n",
    "final_stud_exam = m_stud_exam \\\n",
    "    .loc[:,['code_module', 'date_submitted', 'module_presentation_length']] \\\n",
    "    .groupby('code_module', as_index=False) \\\n",
    "    .mean() \\\n",
    "    .round()\n",
    "final_stud_exam"
   ]
  },
  {
   "cell_type": "markdown",
   "metadata": {},
   "source": [
    "## Вывод:\n",
    "По предмету CCC средний срок сдачи итогового экзамена 239 днейПо предмету DDD средний срок сдачи итогового экзамена 238 днейВ среднем, студенты успевают сдать экзамены в срок."
   ]
  },
  {
   "cell_type": "markdown",
   "metadata": {},
   "source": [
    "### 4. Выявить самые популярные курсы (ТОП-3) по количеству регистраций на них. А также курсы с самым большим оттоком (ТОП-3).\n",
    "Для решения нам потребуются данные из датафрейма  - student_regОттоком будем считать -  отношение отменивших регистрацию к числу зарегестрировавщихся  "
   ]
  },
  {
   "cell_type": "code",
   "execution_count": 37,
   "metadata": {},
   "outputs": [
    {
     "data": {
      "text/plain": [
       "code_module                0\n",
       "code_presentation          0\n",
       "id_student                 0\n",
       "date_registration         45\n",
       "date_unregistration    22521\n",
       "dtype: int64"
      ]
     },
     "execution_count": 37,
     "metadata": {},
     "output_type": "execute_result"
    }
   ],
   "source": [
    "#Проверим данные на пропуски\n",
    "student_reg.isnull().sum()"
   ]
  },
  {
   "cell_type": "markdown",
   "metadata": {},
   "source": [
    " У нас есть пропуски в датах, но при этом нет пропусков по другим колонкам, значит убирать их из данных мы не будем, а считать кол-во регистраций мы будем по количеству уникальных 'id_students'"
   ]
  },
  {
   "cell_type": "code",
   "execution_count": 38,
   "metadata": {},
   "outputs": [
    {
     "data": {
      "image/png": "[encoded data removed]",
      "text/plain": [
       "<Figure size 864x432 with 1 Axes>"
      ]
     },
     "metadata": {
      "needs_background": "light"
     },
     "output_type": "display_data"
    }
   ],
   "source": [
    " # Посмотрим как распределились даты регистраций:\n",
    "sns.displot(student_reg, x='date_registration', palette=\"light\")\n",
    "plt.gcf().set_size_inches(12, 6)"
   ]
  },
  {
   "cell_type": "markdown",
   "metadata": {},
   "source": [
    " В целом, за исключением небольшого количества регистраций сильно заранее, все выглядит логичным"
   ]
  },
  {
   "cell_type": "code",
   "execution_count": 39,
   "metadata": {},
   "outputs": [
    {
     "data": {
      "image/png": "[encoded data removed]",
      "text/plain": [
       "<Figure size 864x432 with 1 Axes>"
      ]
     },
     "metadata": {
      "needs_background": "light"
     },
     "output_type": "display_data"
    }
   ],
   "source": [
    "# Посмотрим как распределились даты отмены регистраций:\n",
    "sns.displot(student_reg, x='date_unregistration', palette=\"light\")\n",
    "plt.gcf().set_size_inches(12, 6)"
   ]
  },
  {
   "cell_type": "markdown",
   "metadata": {},
   "source": [
    " Здесь так же все выглядит логичным Приступим к решению задачи"
   ]
  },
  {
   "cell_type": "code",
   "execution_count": 40,
   "metadata": {},
   "outputs": [],
   "source": [
    "# Отфильтруем данные и запишем их в переменную 'top_courses'\n",
    "top_courses = student_reg \\\n",
    "    .groupby('code_module', as_index=False) \\\n",
    "    .agg({'id_student': 'nunique','date_unregistration' : 'count'}) \\\n",
    "    .rename(columns={'id_student' : 'registred', 'date_unregistration' : 'unregistred'}) \\\n",
    "    .sort_values('registred', ascending=False)\n",
    "# Добавим колонку рейтинга оттока\n",
    "top_courses['churn_ratio_%'] = top_courses.unregistred.divide(top_courses.registred).mul(100).round(2)"
   ]
  },
  {
   "cell_type": "code",
   "execution_count": 41,
   "metadata": {},
   "outputs": [
    {
     "data": {
      "text/html": [
       "<div>\n",
       "<style scoped>\n",
       "    .dataframe tbody tr th:only-of-type {\n",
       "        vertical-align: middle;\n",
       "    }\n",
       "\n",
       "    .dataframe tbody tr th {\n",
       "        vertical-align: top;\n",
       "    }\n",
       "\n",
       "    .dataframe thead th {\n",
       "        text-align: right;\n",
       "    }\n",
       "</style>\n",
       "<table border=\"1\" class=\"dataframe\">\n",
       "  <thead>\n",
       "    <tr style=\"text-align: right;\">\n",
       "      <th></th>\n",
       "      <th>code_module</th>\n",
       "      <th>registred</th>\n",
       "      <th>unregistred</th>\n",
       "      <th>churn_ratio_%</th>\n",
       "    </tr>\n",
       "  </thead>\n",
       "  <tbody>\n",
       "    <tr>\n",
       "      <th>1</th>\n",
       "      <td>BBB</td>\n",
       "      <td>7692</td>\n",
       "      <td>2377</td>\n",
       "      <td>30.90</td>\n",
       "    </tr>\n",
       "    <tr>\n",
       "      <th>5</th>\n",
       "      <td>FFF</td>\n",
       "      <td>7397</td>\n",
       "      <td>2380</td>\n",
       "      <td>32.18</td>\n",
       "    </tr>\n",
       "    <tr>\n",
       "      <th>3</th>\n",
       "      <td>DDD</td>\n",
       "      <td>5848</td>\n",
       "      <td>2235</td>\n",
       "      <td>38.22</td>\n",
       "    </tr>\n",
       "    <tr>\n",
       "      <th>2</th>\n",
       "      <td>CCC</td>\n",
       "      <td>4251</td>\n",
       "      <td>1947</td>\n",
       "      <td>45.80</td>\n",
       "    </tr>\n",
       "    <tr>\n",
       "      <th>4</th>\n",
       "      <td>EEE</td>\n",
       "      <td>2859</td>\n",
       "      <td>718</td>\n",
       "      <td>25.11</td>\n",
       "    </tr>\n",
       "    <tr>\n",
       "      <th>6</th>\n",
       "      <td>GGG</td>\n",
       "      <td>2525</td>\n",
       "      <td>289</td>\n",
       "      <td>11.45</td>\n",
       "    </tr>\n",
       "    <tr>\n",
       "      <th>0</th>\n",
       "      <td>AAA</td>\n",
       "      <td>712</td>\n",
       "      <td>126</td>\n",
       "      <td>17.70</td>\n",
       "    </tr>\n",
       "  </tbody>\n",
       "</table>\n",
       "</div>"
      ],
      "text/plain": [
       "  code_module  registred  unregistred  churn_ratio_%\n",
       "1         BBB       7692         2377          30.90\n",
       "5         FFF       7397         2380          32.18\n",
       "3         DDD       5848         2235          38.22\n",
       "2         CCC       4251         1947          45.80\n",
       "4         EEE       2859          718          25.11\n",
       "6         GGG       2525          289          11.45\n",
       "0         AAA        712          126          17.70"
      ]
     },
     "execution_count": 41,
     "metadata": {},
     "output_type": "execute_result"
    }
   ],
   "source": [
    "# Посмотрим на получившийся датафрейм\n",
    "\n",
    "top_courses"
   ]
  },
  {
   "cell_type": "code",
   "execution_count": 42,
   "metadata": {},
   "outputs": [
    {
     "data": {
      "text/plain": [
       "<matplotlib.axes._subplots.AxesSubplot at 0x7f0ab3a4f208>"
      ]
     },
     "execution_count": 42,
     "metadata": {},
     "output_type": "execute_result"
    },
    {
     "data": {
      "image/png": "[encoded data removed]",
      "text/plain": [
       "<Figure size 720x576 with 1 Axes>"
      ]
     },
     "metadata": {
      "needs_background": "light"
     },
     "output_type": "display_data"
    }
   ],
   "source": [
    "# Выведем курсы по количеству регистраций\n",
    "top_courses_reg =  top_courses.sort_values('registred', ascending=False)\n",
    "f, ax1 = plt.subplots(1, figsize=(10, 8), sharex=True)\n",
    "sns.barplot(data = top_courses_reg, x='code_module', y='registred', palette=\"deep\")"
   ]
  },
  {
   "cell_type": "code",
   "execution_count": 43,
   "metadata": {},
   "outputs": [
    {
     "data": {
      "text/html": [
       "<div>\n",
       "<style scoped>\n",
       "    .dataframe tbody tr th:only-of-type {\n",
       "        vertical-align: middle;\n",
       "    }\n",
       "\n",
       "    .dataframe tbody tr th {\n",
       "        vertical-align: top;\n",
       "    }\n",
       "\n",
       "    .dataframe thead th {\n",
       "        text-align: right;\n",
       "    }\n",
       "</style>\n",
       "<table border=\"1\" class=\"dataframe\">\n",
       "  <thead>\n",
       "    <tr style=\"text-align: right;\">\n",
       "      <th></th>\n",
       "      <th>code_module</th>\n",
       "      <th>registred</th>\n",
       "      <th>unregistred</th>\n",
       "      <th>churn_ratio_%</th>\n",
       "    </tr>\n",
       "  </thead>\n",
       "  <tbody>\n",
       "    <tr>\n",
       "      <th>1</th>\n",
       "      <td>BBB</td>\n",
       "      <td>7692</td>\n",
       "      <td>2377</td>\n",
       "      <td>30.90</td>\n",
       "    </tr>\n",
       "    <tr>\n",
       "      <th>5</th>\n",
       "      <td>FFF</td>\n",
       "      <td>7397</td>\n",
       "      <td>2380</td>\n",
       "      <td>32.18</td>\n",
       "    </tr>\n",
       "    <tr>\n",
       "      <th>3</th>\n",
       "      <td>DDD</td>\n",
       "      <td>5848</td>\n",
       "      <td>2235</td>\n",
       "      <td>38.22</td>\n",
       "    </tr>\n",
       "  </tbody>\n",
       "</table>\n",
       "</div>"
      ],
      "text/plain": [
       "  code_module  registred  unregistred  churn_ratio_%\n",
       "1         BBB       7692         2377          30.90\n",
       "5         FFF       7397         2380          32.18\n",
       "3         DDD       5848         2235          38.22"
      ]
     },
     "execution_count": 43,
     "metadata": {},
     "output_type": "execute_result"
    }
   ],
   "source": [
    "# Отбабразим топ-3 курсов по количеству регистраций:\n",
    "top_courses_reg.head(3)"
   ]
  },
  {
   "cell_type": "code",
   "execution_count": 44,
   "metadata": {},
   "outputs": [
    {
     "data": {
      "text/plain": [
       "<matplotlib.axes._subplots.AxesSubplot at 0x7f0ab39ec9b0>"
      ]
     },
     "execution_count": 44,
     "metadata": {},
     "output_type": "execute_result"
    },
    {
     "data": {
      "image/png": "[encoded data removed]",
      "text/plain": [
       "<Figure size 720x576 with 1 Axes>"
      ]
     },
     "metadata": {
      "needs_background": "light"
     },
     "output_type": "display_data"
    }
   ],
   "source": [
    "# Выведем курсы по % оттока\n",
    "top_courses_churn = top_courses.sort_values('churn_ratio_%', ascending=False)\n",
    "f, ax1 = plt.subplots(1, figsize=(10, 8), sharex=True)\n",
    "sns.barplot(data = top_courses_churn, x='code_module', y='churn_ratio_%', palette=\"deep\")"
   ]
  },
  {
   "cell_type": "code",
   "execution_count": 45,
   "metadata": {},
   "outputs": [
    {
     "data": {
      "text/html": [
       "<div>\n",
       "<style scoped>\n",
       "    .dataframe tbody tr th:only-of-type {\n",
       "        vertical-align: middle;\n",
       "    }\n",
       "\n",
       "    .dataframe tbody tr th {\n",
       "        vertical-align: top;\n",
       "    }\n",
       "\n",
       "    .dataframe thead th {\n",
       "        text-align: right;\n",
       "    }\n",
       "</style>\n",
       "<table border=\"1\" class=\"dataframe\">\n",
       "  <thead>\n",
       "    <tr style=\"text-align: right;\">\n",
       "      <th></th>\n",
       "      <th>code_module</th>\n",
       "      <th>registred</th>\n",
       "      <th>unregistred</th>\n",
       "      <th>churn_ratio_%</th>\n",
       "    </tr>\n",
       "  </thead>\n",
       "  <tbody>\n",
       "    <tr>\n",
       "      <th>2</th>\n",
       "      <td>CCC</td>\n",
       "      <td>4251</td>\n",
       "      <td>1947</td>\n",
       "      <td>45.80</td>\n",
       "    </tr>\n",
       "    <tr>\n",
       "      <th>3</th>\n",
       "      <td>DDD</td>\n",
       "      <td>5848</td>\n",
       "      <td>2235</td>\n",
       "      <td>38.22</td>\n",
       "    </tr>\n",
       "    <tr>\n",
       "      <th>5</th>\n",
       "      <td>FFF</td>\n",
       "      <td>7397</td>\n",
       "      <td>2380</td>\n",
       "      <td>32.18</td>\n",
       "    </tr>\n",
       "  </tbody>\n",
       "</table>\n",
       "</div>"
      ],
      "text/plain": [
       "  code_module  registred  unregistred  churn_ratio_%\n",
       "2         CCC       4251         1947          45.80\n",
       "3         DDD       5848         2235          38.22\n",
       "5         FFF       7397         2380          32.18"
      ]
     },
     "execution_count": 45,
     "metadata": {},
     "output_type": "execute_result"
    }
   ],
   "source": [
    "#Выведем топ-3 курса по рейтингу оттока\n",
    "\n",
    "top_courses_churn.head(3)"
   ]
  },
  {
   "cell_type": "markdown",
   "metadata": {},
   "source": [
    "## Вывод:\n",
    "Топ-3 курсов по количеству регистраций:\n",
    "BBB, FFF, DDDТоп-3 курса по рейтингу оттока:\n",
    "CCC, DDD, FFFНе смотря на то, что курс CCC имеет \"среднее\" количество регистраций, он обладает очень большим показателем оттока, возможно стоит сосредоточить внимание и проверить, что вызыввает сложности у студентов."
   ]
  },
  {
   "cell_type": "markdown",
   "metadata": {},
   "source": [
    "### 5. Написать функцию на python, позволяющую строить когортный (семестровый) анализ. В период с начала 2013 по конец 2014 выяви семестр с самой низкой завершаемостью курсов и самыми долгими средними сроками сдачи курсов."
   ]
  },
  {
   "cell_type": "code",
   "execution_count": 46,
   "metadata": {},
   "outputs": [],
   "source": [
    "def cohort(assessments,student_as):\n",
    "    \n",
    "\n",
    "    # Фильтруем данные в датафрейме `assessments` и сохраняем в переменную `as_exam`\n",
    "    as_exam = assessments[assessments.assessment_type == 'Exam']\n",
    "\n",
    "    # Объединим as_exam и student_as\n",
    "    exam_data = student_as.merge(as_exam,on='id_assessment')\n",
    "\n",
    "    # Сгрупперуем данные по семестру и найдем средний срок сдачи\n",
    "    cohort_ass = exam_data \\\n",
    "        .groupby('code_presentation',as_index=False) \\\n",
    "        .date_submitted.mean() \\\n",
    "        .rename(columns={'date_submitted': 'mean_date'}) \\\n",
    "        .round()\n",
    "\n",
    "    # Отфильтруем данные с успешно сданными экзаменами и посчитаем кол-во студентов в каждом семестре\n",
    "    id_assessment_success_2 = exam_data \\\n",
    "        .loc[exam_data.score >= 40] \\\n",
    "        .groupby(['code_presentation'],as_index=False) \\\n",
    "        .id_student.count() \\\n",
    "        .rename(columns={'id_student' : 'success'})\n",
    "\n",
    "    # Посчитаем общее количество студентов с разбивкой по сместрам\n",
    "    id_assessment_total2 = exam_data \\\n",
    "        .groupby('code_presentation',as_index=False) \\\n",
    "        .id_student.count() \\\n",
    "        .rename(columns={'id_student' : 'total'})\n",
    "\n",
    "    # Добавим колонку с рейтингом завершаемости курсов по семестрам\n",
    "    cohort_ass['ratio'] = round(id_assessment_success_2.success / id_assessment_total2.total, 2)\n",
    "    \n",
    "    return cohort_ass"
   ]
  },
  {
   "cell_type": "code",
   "execution_count": 47,
   "metadata": {},
   "outputs": [
    {
     "data": {
      "text/html": [
       "<div>\n",
       "<style scoped>\n",
       "    .dataframe tbody tr th:only-of-type {\n",
       "        vertical-align: middle;\n",
       "    }\n",
       "\n",
       "    .dataframe tbody tr th {\n",
       "        vertical-align: top;\n",
       "    }\n",
       "\n",
       "    .dataframe thead th {\n",
       "        text-align: right;\n",
       "    }\n",
       "</style>\n",
       "<table border=\"1\" class=\"dataframe\">\n",
       "  <thead>\n",
       "    <tr style=\"text-align: right;\">\n",
       "      <th></th>\n",
       "      <th>code_presentation</th>\n",
       "      <th>mean_date</th>\n",
       "      <th>ratio</th>\n",
       "    </tr>\n",
       "  </thead>\n",
       "  <tbody>\n",
       "    <tr>\n",
       "      <th>0</th>\n",
       "      <td>2013B</td>\n",
       "      <td>230.0</td>\n",
       "      <td>0.84</td>\n",
       "    </tr>\n",
       "    <tr>\n",
       "      <th>1</th>\n",
       "      <td>2013J</td>\n",
       "      <td>240.0</td>\n",
       "      <td>0.91</td>\n",
       "    </tr>\n",
       "    <tr>\n",
       "      <th>2</th>\n",
       "      <td>2014B</td>\n",
       "      <td>233.0</td>\n",
       "      <td>0.90</td>\n",
       "    </tr>\n",
       "    <tr>\n",
       "      <th>3</th>\n",
       "      <td>2014J</td>\n",
       "      <td>244.0</td>\n",
       "      <td>0.88</td>\n",
       "    </tr>\n",
       "  </tbody>\n",
       "</table>\n",
       "</div>"
      ],
      "text/plain": [
       "  code_presentation  mean_date  ratio\n",
       "0             2013B      230.0   0.84\n",
       "1             2013J      240.0   0.91\n",
       "2             2014B      233.0   0.90\n",
       "3             2014J      244.0   0.88"
      ]
     },
     "execution_count": 47,
     "metadata": {},
     "output_type": "execute_result"
    }
   ],
   "source": [
    "cohort(assessments,student_as)"
   ]
  },
  {
   "cell_type": "markdown",
   "metadata": {},
   "source": [
    "## Вывод:\n",
    "Семестр с самой низкой завершаемостью - 2013B, c рейтингом 0.84Семестр с самыми долгими средними сроками сдачи - 2014J, со сроком 244.0"
   ]
  },
  {
   "cell_type": "markdown",
   "metadata": {},
   "source": [
    "### 5. Построить адаптированные RFM-кластеры студентов, чтобы качественно оценить аудиторию.\n",
    "В адаптированной кластеризации будем использовать следующие метрики: R - период сдачи одного экзамена, F - завершаемость курсов, M - среднее количество баллов, получаемое за экзамен.R - период сдачи одного экзамена\n",
    "Так как среднее время сильно зависит от даты экзамена и длинны семестра, а студентам один и тот же экзамен может быть назначен в разные дни, то есть риск разнести таких студентов в разные категории, потому мы будем делить их по периодам, когда они сдали экзамен.Выберем 3 категории студентов:\n",
    "Студент пытался сдать, но не сдал экзаменСдал после окончания семестраСдал до конца семестра\n",
    "При этом, нужно понимать, что если студент относится к 1 категории то и в других метриках у него не может быть отличной категории (так как он не может не сдать экзамен, при этом завершить курс или получить оценку 40 и выше).F - завершаемость курсов\n",
    "За основу возьмем принцип из первого задания. Нам известно, что никто не завершал более 2х курсов. Потому будем считать категории как кол-во завершенных курсов + 1.Выберем 3 категории студентов:\n",
    "Студент не завершил курсЗавершил один курсЗавершил два курса\n",
    "M - среднее количество баллов, получаемое на экзамене.\n",
    "Здесь у нас будет 4 категории :Из условия у нас есть нижняя планка в 40 баллов. Те, кто получил оценку ниже -  с экзаменом не справились, остальных поделим следующим образом:\n",
    "Получил меньше 40 балловПолучил от 40 до 65 баллов - УдовлетворительноПолучил от 65 до 85 баллов - ХорошоПолучил 85 и больше - Отлично"
   ]
  },
  {
   "cell_type": "code",
   "execution_count": 50,
   "metadata": {},
   "outputs": [
    {
     "data": {
      "text/plain": [
       "id_student    4633\n",
       "dtype: int64"
      ]
     },
     "execution_count": 50,
     "metadata": {},
     "output_type": "execute_result"
    }
   ],
   "source": [
    "#Найдем общее количество студентов сдаваших экзамен, что бы проверять себя\n",
    "total_students  = students_exam \\\n",
    "        .groupby(['id_student'], as_index=False) \\\n",
    "        .id_student.nunique() \\\n",
    "        .sum()\n",
    "total_students"
   ]
  },
  {
   "cell_type": "markdown",
   "metadata": {},
   "source": [
    "R"
   ]
  },
  {
   "cell_type": "code",
   "execution_count": 51,
   "metadata": {},
   "outputs": [],
   "source": [
    "# Объеденим 3 датафрейма и отфильтруем только данные по assessment_type == 'Exam'\n",
    "ex_date = student_as \\\n",
    "    .merge(assessments,on='id_assessment') \\\n",
    "    .merge(courses, on=['code_module', 'code_presentation']) \\\n",
    "    .query(\"assessment_type == 'Exam'\")\n",
    "# Создадим колонку разницы в датах отправвки и прододжительности курса\n",
    "ex_date['date_diff'] = ex_date.date_submitted - ex_date.module_presentation_length"
   ]
  },
  {
   "cell_type": "code",
   "execution_count": 52,
   "metadata": {},
   "outputs": [],
   "source": [
    "# Проставим значение recency = 1  студентам несдавшим экзамен и запишем в переменную rec_1\n",
    "rec_1 = ex_date[ex_date.score < 40] \\\n",
    "        .groupby('id_student', as_index=False)\\\n",
    "        .date_diff.mean() \\\n",
    "        .rename(columns={'date_diff': 'recency'})\n",
    "rec_1['recency'] = '1'"
   ]
  },
  {
   "cell_type": "code",
   "execution_count": 53,
   "metadata": {},
   "outputs": [],
   "source": [
    "# Проставим значение recency = 2  студентам сдавшим после окончания семестра и запишем в переменную rec_2\n",
    "rec_2 = ex_date[(ex_date.score >= 40) & (ex_date.date_diff > 0)]\\\n",
    "        .groupby('id_student', as_index=False)\\\n",
    "        .date_diff.mean() \\\n",
    "        .rename(columns={\"date_diff\": \"recency\"})\n",
    "rec_2['recency'] = '2'"
   ]
  },
  {
   "cell_type": "code",
   "execution_count": 54,
   "metadata": {},
   "outputs": [],
   "source": [
    " # Проставим значение recency = 3  студентам сдавшим до окончания семестра и запишем в переменную rec_3\n",
    "\n",
    "rec_3 = ex_date[(ex_date.score >= 40) & (ex_date.date_diff < 0)]\\\n",
    "        .groupby('id_student', as_index=False)\\\n",
    "        .date_diff.mean() \\\n",
    "        .rename(columns={\"date_diff\": \"recency\"})\n",
    "rec_3['recency'] = '3'"
   ]
  },
  {
   "cell_type": "code",
   "execution_count": 55,
   "metadata": {},
   "outputs": [],
   "source": [
    "# Объеденим все в 1 датафрейм удалив дубликаты\n",
    "recency = pd.concat([rec_3, rec_2, rec_1]).drop_duplicates('id_student')"
   ]
  },
  {
   "cell_type": "code",
   "execution_count": 56,
   "metadata": {},
   "outputs": [
    {
     "data": {
      "text/plain": [
       "(4633, 2)"
      ]
     },
     "execution_count": 56,
     "metadata": {},
     "output_type": "execute_result"
    }
   ],
   "source": [
    " # Проверим кол-во студентов\n",
    "recency.shape"
   ]
  },
  {
   "cell_type": "markdown",
   "metadata": {},
   "source": [
    "F"
   ]
  },
  {
   "cell_type": "code",
   "execution_count": 57,
   "metadata": {},
   "outputs": [],
   "source": [
    "# Проставим значение frequency == количество завершенных курсов + 1 - студентам успешно сдавшим экзамен\n",
    "frequency_s = students_exam \\\n",
    "    .query('score >= 40 & is_banked == 0') \\\n",
    "    .groupby(['id_student'], as_index=False) \\\n",
    "    .code_module.count() \\\n",
    "    .rename(columns={'code_module': 'frequency'}) \\\n",
    "    .sort_values('frequency')\n",
    "frequency_s.frequency += 1"
   ]
  },
  {
   "cell_type": "code",
   "execution_count": 58,
   "metadata": {},
   "outputs": [],
   "source": [
    " # Проставим значение frequency == 1 cтудентам несдавшим экзамен\n",
    "frequency_f = students_exam \\\n",
    "    .query('score < 40 & is_banked == 0') \\\n",
    "    .groupby(['id_student'], as_index=False) \\\n",
    "    .code_module.count() \\\n",
    "    .rename(columns={'code_module': 'frequency'}) \\\n",
    "    .sort_values('frequency')\n",
    "frequency_f.frequency = 1"
   ]
  },
  {
   "cell_type": "code",
   "execution_count": 59,
   "metadata": {},
   "outputs": [],
   "source": [
    " # Объеденим все в 1 датафрейм удалив дубликаты\n",
    "frequency = pd.concat([frequency_s, frequency_f]).drop_duplicates('id_student')\n",
    "# Поменяем формат данных на str\n",
    "frequency.frequency = frequency.frequency.apply(str)"
   ]
  },
  {
   "cell_type": "code",
   "execution_count": 60,
   "metadata": {},
   "outputs": [
    {
     "data": {
      "text/plain": [
       "(4633, 2)"
      ]
     },
     "execution_count": 60,
     "metadata": {},
     "output_type": "execute_result"
    }
   ],
   "source": [
    "# Проверим кол-во студентов\n",
    "\n",
    "frequency.shape"
   ]
  },
  {
   "cell_type": "markdown",
   "metadata": {},
   "source": [
    "M"
   ]
  },
  {
   "cell_type": "code",
   "execution_count": 61,
   "metadata": {},
   "outputs": [],
   "source": [
    "# Проставим значение monetary, используя функцию cut\n",
    "monetary = students_exam \\\n",
    "    .groupby(['id_student'], as_index=False) \\\n",
    "    .agg({'score': 'mean'})\n",
    "bins = [0,40,65,85,101]\n",
    "monetary['monetary'] = pd.cut(monetary.score, bins, labels=[1, 2, 3, 4], right=False).astype(str)"
   ]
  },
  {
   "cell_type": "code",
   "execution_count": 62,
   "metadata": {},
   "outputs": [
    {
     "data": {
      "text/plain": [
       "2    1751\n",
       "3    1428\n",
       "4     911\n",
       "1     543\n",
       "Name: monetary, dtype: int64"
      ]
     },
     "execution_count": 62,
     "metadata": {},
     "output_type": "execute_result"
    }
   ],
   "source": [
    "# Посмотрим на получившиеся кластеры\n",
    "monetary.monetary.value_counts()"
   ]
  },
  {
   "cell_type": "code",
   "execution_count": 63,
   "metadata": {},
   "outputs": [
    {
     "data": {
      "text/plain": [
       "(4633, 3)"
      ]
     },
     "execution_count": 63,
     "metadata": {},
     "output_type": "execute_result"
    }
   ],
   "source": [
    "# Проверим кол-во студентов\n",
    "monetary.shape"
   ]
  },
  {
   "cell_type": "markdown",
   "metadata": {},
   "source": [
    "R-F-M"
   ]
  },
  {
   "cell_type": "code",
   "execution_count": 64,
   "metadata": {},
   "outputs": [],
   "source": [
    "# Объеденим все полученное ранее в итоговые датафрейм с необходимыми показателями\n",
    "RFM = pd.merge(recency,frequency, on=\"id_student\").merge(monetary, on=\"id_student\")"
   ]
  },
  {
   "cell_type": "code",
   "execution_count": 65,
   "metadata": {},
   "outputs": [],
   "source": [
    "# Создадим колонку с нужным нам параметром\n",
    "RFM['rfm'] = RFM.recency + RFM.frequency  + RFM.monetary"
   ]
  },
  {
   "cell_type": "code",
   "execution_count": 66,
   "metadata": {},
   "outputs": [
    {
     "data": {
      "text/plain": [
       "322    1658\n",
       "323    1310\n",
       "324     817\n",
       "111     536\n",
       "333     115\n",
       "334      93\n",
       "332      87\n",
       "321       7\n",
       "222       6\n",
       "223       3\n",
       "224       1\n",
       "Name: rfm, dtype: int64"
      ]
     },
     "execution_count": 66,
     "metadata": {},
     "output_type": "execute_result"
    }
   ],
   "source": [
    "# Выведем итоговый результат кластеризации:\n",
    "RFM.rfm.value_counts()"
   ]
  },
  {
   "cell_type": "code",
   "execution_count": 67,
   "metadata": {},
   "outputs": [
    {
     "data": {
      "text/plain": [
       "<matplotlib.axes._subplots.AxesSubplot at 0x7f0ab3974d30>"
      ]
     },
     "execution_count": 67,
     "metadata": {},
     "output_type": "execute_result"
    },
    {
     "data": {
      "image/png": "[encoded data removed]",
      "text/plain": [
       "<Figure size 720x576 with 1 Axes>"
      ]
     },
     "metadata": {
      "needs_background": "light"
     },
     "output_type": "display_data"
    }
   ],
   "source": [
    "# Визуализируем данные\n",
    "rfm_f = RFM.groupby('rfm',as_index=False).id_student.nunique().rename(columns={'id_student':'value'}).sort_values('value', ascending=False)\n",
    "f, ax1 = plt.subplots(1, figsize=(10, 8), sharex=True)\n",
    "sns.barplot(data = rfm_f,x='rfm', y='value', palette=\"deep\")"
   ]
  },
  {
   "cell_type": "markdown",
   "metadata": {},
   "source": [
    "Вывод:\n",
    "Итого у нас вышло 10 кластеров:\n",
    "\n",
    "322 - завершили один курс вовремя и получили оценку Удовлетворительно323 - завершили один курс вовремя и получили оценку Хорошо324 - завершили один курс вовремя и получили оценку Отлично  111 - не завершили ни одного курса и получили оценку Неудовлетворительно   334 - в среднем уложились в длинну семестра и завершили два курса со средней оценкой Отлично333 - в среднем уложились в длинну семестра и завершили два курса со средней оценкой Хорошо332 - в среднем уложились в длинну семестра и завершили два курса со средней оценкой Удовлетворительно    222 - сдали после окончания семестра, завершили один курс и получили оценку Удовлетворительно223 - сдали после окончания семестра, завершили один курс и получили оценку Хорошо224 - сдали после окончания семестра, завершили один курс и получили оценку Отлично\n",
    "Так как кластеры с оценкой \"Удовлетворительно\" превалируют, нужно разобраться в причине такого кол-ва низких оценок. Возможно, стоит обратить внимание на сложность курса и доступность в подаче информации, что бы поправить этот показатель."
   ]
  },
  {
   "cell_type": "code",
   "execution_count": null,
   "metadata": {},
   "outputs": [],
   "source": []
  }
 ],
 "metadata": {
  "kernelspec": {
   "display_name": "Python 3",
   "language": "python",
   "name": "python3"
  },
  "language_info": {
   "codemirror_mode": {
    "name": "ipython",
    "version": 3
   },
   "file_extension": ".py",
   "mimetype": "text/x-python",
   "name": "python",
   "nbconvert_exporter": "python",
   "pygments_lexer": "ipython3",
   "version": "3.7.3"
  }
 },
 "nbformat": 4,
 "nbformat_minor": 4
}
